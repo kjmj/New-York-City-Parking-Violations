{
  "cells": [
    {
      "cell_type": "markdown",
      "metadata": {
        "collapsed": true,
        "pycharm": {
          "name": "#%% md\n"
        }
      },
      "source": "## Imports and Data Cleaning"
    },
    {
      "cell_type": "code",
      "execution_count": 19,
      "outputs": [
        {
          "name": "stdout",
          "text": [
            "Done cleaning data.\n"
          ],
          "output_type": "stream"
        }
      ],
      "source": "import pandas as pd\nimport math\nimport matplotlib.pyplot as plt\nimport mplleaflet\n\n# Replace any number of spaces with just a single space\ndef refineSpaces(x):\n    return x.replace(\u0027\\s+\u0027, \u0027 \u0027, regex\u003dTrue)\n\n# Remove leading and trailing white space\ndef removeExcessWhitespace(x):\n    return x.str.strip()\n\n# To uppercase\ndef toUpper(x):\n    return x.str.upper()\n\nviolations \u003d pd.read_csv(\u0027data/csv/ParkingViolations2015-Partial.csv\u0027, nrows\u003d100)\nviolations[[\u0027House Number\u0027, \u0027Street Name\u0027]] \u003d violations[[\u0027House Number\u0027, \u0027Street Name\u0027]].apply(refineSpaces)\nviolations[[\u0027House Number\u0027, \u0027Street Name\u0027]] \u003d violations[[\u0027House Number\u0027, \u0027Street Name\u0027]].apply(removeExcessWhitespace)\nviolations[[\u0027House Number\u0027, \u0027Street Name\u0027]] \u003d violations[[\u0027House Number\u0027, \u0027Street Name\u0027]].apply(toUpper)\n\nopenmaps \u003d pd.read_csv(\u0027data/csv/city_of_new_york.csv\u0027)\nopenmaps[[\u0027NUMBER\u0027, \u0027STREET\u0027]] \u003d openmaps[[\u0027NUMBER\u0027, \u0027STREET\u0027]].apply(refineSpaces)\nopenmaps[[\u0027NUMBER\u0027, \u0027STREET\u0027]] \u003d openmaps[[\u0027NUMBER\u0027, \u0027STREET\u0027]].apply(removeExcessWhitespace)\nopenmaps[[\u0027NUMBER\u0027, \u0027STREET\u0027]] \u003d openmaps[[\u0027NUMBER\u0027, \u0027STREET\u0027]].apply(toUpper)\n\nprint(\"Done cleaning data.\")\n",
      "metadata": {
        "pycharm": {
          "metadata": false,
          "name": "#%%\n",
          "is_executing": false
        }
      }
    },
    {
      "cell_type": "markdown",
      "source": "# Merge based on address",
      "metadata": {
        "pycharm": {
          "metadata": false,
          "name": "#%% md\n"
        }
      }
    },
    {
      "cell_type": "code",
      "execution_count": 21,
      "outputs": [
        {
          "name": "stdout",
          "text": [
            "    Unnamed: 0  Summons Number  Plate ID Registration State Plate Type  \\\n0            0      8002531292   EPC5238                 NY        PAS   \n1            1      8015318440    5298MD                 NY        COM   \n2            3      7445908067   GWE1987                 NY        PAS   \n3            5      7704791394   JJF6834                 PA        PAS   \n4            6      7541599104   FYP8263                 NY        PAS   \n5            8      7426321423   86318MA                 NY        COM   \n6            9      8017159560   GKX8095                 NY        PAS   \n7           10      8017159560   GKX8095                 NY        PAS   \n8           11      7002571382   CXT8949                 TX        PAS   \n9           12      7939966900   GSR4914                 NY        PAS   \n10          15      7831181295   16238TC                 NY        TRC   \n11          15      7831181295   16238TC                 NY        TRC   \n12          19      7420795630    6AJWV5                 CT        PAS   \n13          23      7997989572   GJP9663                 NY        PAS   \n14          24      7997989572   GJP9663                 NY        PAS   \n15          25      7097098715    G78DLL                 NJ        PAS   \n16          26      7787591079   GKP6078                 NY        PAS   \n17          29      7359154236    M80ANH                 NJ        PAS   \n18          32      8035700765   GKB7155                 NY        PAS   \n19          33      7766334392   CJP1169                 NY        PAS   \n20          35      8021902164   96313JE                 NY        COM   \n21          37      7006621586   FFE3632                 NY        PAS   \n22          41      7540622817    G98BVF                 NJ        PAS   \n23          45      7553907455    W73DRS                 NJ        PAS   \n24          45      7553907455    W73DRS                 NJ        PAS   \n25          46      7553907455    W73DRS                 NJ        PAS   \n26          46      7553907455    W73DRS                 NJ        PAS   \n27          53      7576361815   EDT9406                 NY        PAS   \n28          54      7576361815   EDT9406                 NY        PAS   \n29          58      8017257454   GRD8338                 NY        PAS   \n30          59      7799971009   FPJ1465                 NY        PAS   \n31          61      8018677712  T653918C                 NY        OMT   \n32          62      7578730459   GKZ9055                 NY        PAS   \n33          66      8018711094   EWT8528                 NY        PAS   \n34          67      1367471345   GSE2596                 NY        PAS   \n35          74      7969133666   FYK4168                 NY        PAS   \n36          79      7253931865    HS8919                 NJ        PAS   \n37          80      7982623451   DTJ1619                 NY        PAS   \n38          82      7487409983   EBF1693                 NY        PAS   \n39          84      7831182380   91414MD                 NY        COM   \n40          85      1366539345   FYB2774                 NY        PAS   \n41          87      7753938370   FMT2474                 NY        PAS   \n42          89      8007539610   18580MG                 NY        COM   \n43          91      8007812362   61508MC                 NY        COM   \n44          91      8007812362   61508MC                 NY        COM   \n45          92      1378109041   ETP8135                 NY        PAS   \n46          94      7719036463   24705MB                 NY        COM   \n47          98      1368841090  T621450C                 NY        SRF   \n\n    Issue Date  Violation Code Vehicle Body Type Vehicle Make Issuing Agency  \\\n0   10/01/2014              21              SUBN        CHEVR              T   \n1   03/06/2015              14               VAN        FRUEH              T   \n2   04/13/2015              19              4DSD        LEXUS              T   \n3   11/20/2014              21              4DSD        NISSA              T   \n4   08/01/2014              21              SUBN        HONDA              T   \n5   09/23/2014              69               VAN        CHEVR              T   \n6   01/20/2015              71              4DSD        LEXUS              T   \n7   01/20/2015              71              4DSD        LEXUS              T   \n8   02/17/2015              20              SUBN        MAZDA              T   \n9   05/05/2015              20              SUBN        DODGE              T   \n10  08/07/2014              14              TRAC        PETER              T   \n11  08/07/2014              14              TRAC        PETER              T   \n12  10/04/2014              37              SUBN         FORD              T   \n13  01/24/2015              20              4DSD        NISSA              T   \n14  01/24/2015              20              4DSD        NISSA              T   \n15  03/11/2015              38              SUBN          BMW              T   \n16  11/19/2014              20              SUBN        CHRYS              T   \n17  11/14/2014              37              4DSD        ACURA              T   \n18  06/09/2015              21              SUBN        CHRYS              T   \n19  09/05/2014              37              SUBN        NISSA              T   \n20  04/07/2015              46              REFG        ISUZU              T   \n21  08/12/2014              38              SUBN        TOYOT              T   \n22  09/09/2014              37              SUBN        DODGE              T   \n23  01/12/2015              21              4DSD        NISSA              T   \n24  01/12/2015              21              4DSD        NISSA              T   \n25  01/12/2015              21              4DSD        NISSA              T   \n26  01/12/2015              21              4DSD        NISSA              T   \n27  01/21/2015              71              4DSD        PORSC              T   \n28  01/21/2015              71              4DSD        PORSC              T   \n29  12/05/2014              21              SUBN        HONDA              T   \n30  08/28/2014              38              SUBN        LEXUS              T   \n31  05/21/2015              21              4DSD        TOYOT              T   \n32  11/21/2014              21              4DSD        ACURA              T   \n33  05/28/2015              37              SUBN        HONDA              T   \n34  08/09/2014              71               SDN        TOYOT              P   \n35  11/24/2014              38              4DSD        TOYOT              T   \n36  03/11/2015              38              4DSD         FORD              T   \n37  08/28/2014              38              SUBN        TOYOT              T   \n38  12/10/2014              38              SUBN        ACURA              T   \n39  08/13/2014              69               VAN        INTER              T   \n40  07/01/2014              31               SDN        HONDA              P   \n41  08/29/2014              19              4DSD        TOYOT              T   \n42  02/12/2015              38              DELV           UD              T   \n43  11/28/2014              37               VAN         FORD              T   \n44  11/28/2014              37               VAN         FORD              T   \n45  11/10/2014              19               SDN        NISSA              P   \n46  01/28/2015              37              REFG        MITSU              T   \n47  11/20/2014              40              SUBN        CHEVR              P   \n\n    ...        LAT  NUMBER            STREET UNIT  CITY  DISTRICT  REGION  \\\n0   ...  40.720194     133          ESSEX ST  NaN   NaN       NaN     NaN   \n1   ...  40.808765    1916          PARK AVE  NaN   NaN       NaN     NaN   \n2   ...  40.713557  120-20       QUEENS BLVD  NaN   NaN       NaN     NaN   \n3   ...  40.663034    1013        RUTLAND RD  NaN   NaN       NaN     NaN   \n4   ...  40.693576     155       SKILLMAN ST  NaN   NaN       NaN     NaN   \n5   ...  40.714214     199          GRAND ST  NaN   NaN       NaN     NaN   \n6   ...  40.673199  137-22         BEDELL ST  NaN   NaN       NaN     NaN   \n7   ...  40.673199  137-22         BEDELL ST  NaN   NaN       NaN     NaN   \n8   ...  40.758586   39-15          JANET PL  NaN   NaN       NaN     NaN   \n9   ...  40.715965      48       ELDRIDGE ST  NaN   NaN       NaN     NaN   \n10  ...  40.691158    1260          BROADWAY  NaN   NaN       NaN     NaN   \n11  ...  40.748448    1260          BROADWAY  NaN   NaN       NaN     NaN   \n12  ...  40.855766    2390        HOFFMAN ST  NaN   NaN       NaN     NaN   \n13  ...  40.818003      94      OLD BROADWAY  NaN   NaN       NaN     NaN   \n14  ...  40.818003      94      OLD BROADWAY  NaN   NaN       NaN     NaN   \n15  ...  40.679748     121       HERKIMER ST  NaN   NaN       NaN     NaN   \n16  ...  40.712015     340         CHERRY ST  NaN   NaN       NaN     NaN   \n17  ...  40.839811    1405        WALTON AVE  NaN   NaN       NaN     NaN   \n18  ...  40.699791     188      WALLABOUT ST  NaN   NaN       NaN     NaN   \n19  ...  40.698595   94-14      SUTPHIN BLVD  NaN   NaN       NaN     NaN   \n20  ...  40.692347     210      JORALEMON ST  NaN   NaN       NaN     NaN   \n21  ...  40.742230   45-17    GREENPOINT AVE  NaN   NaN       NaN     NaN   \n22  ...  40.702924      45        GRAHAM AVE  NaN   NaN       NaN     NaN   \n23  ...  40.714889     147          GRAND ST  NaN   NaN       NaN     NaN   \n24  ...  40.720093     147          GRAND ST  NaN   NaN       NaN     NaN   \n25  ...  40.714889     147          GRAND ST  NaN   NaN       NaN     NaN   \n26  ...  40.720093     147          GRAND ST  NaN   NaN       NaN     NaN   \n27  ...  40.834616    1354   WHITE PLAINS RD  NaN   NaN       NaN     NaN   \n28  ...  40.834616    1354   WHITE PLAINS RD  NaN   NaN       NaN     NaN   \n29  ...  40.744796  102-32       NICOLLS AVE  NaN   NaN       NaN     NaN   \n30  ...  40.865564     677      ALLERTON AVE  NaN   NaN       NaN     NaN   \n31  ...  40.828377    1173          VYSE AVE  NaN   NaN       NaN     NaN   \n32  ...  40.833071    2146       NEWBOLD AVE  NaN   NaN       NaN     NaN   \n33  ...  40.880962     171     E GUN HILL RD  NaN   NaN       NaN     NaN   \n34  ...  40.597204   54-09        ALMEDA AVE  NaN   NaN       NaN     NaN   \n35  ...  40.828923    1563   WESTCHESTER AVE  NaN   NaN       NaN     NaN   \n36  ...  40.774651   35-04      DITMARS BLVD  NaN   NaN       NaN     NaN   \n37  ...  40.731260      37       CORNELIA ST  NaN   NaN       NaN     NaN   \n38  ...  40.866690      58  E KINGSBRIDGE RD  NaN   NaN       NaN     NaN   \n39  ...  40.746173     136       MADISON AVE  NaN   NaN       NaN     NaN   \n40  ...  40.748055      10           W 33 ST  NaN   NaN       NaN     NaN   \n41  ...  40.758288   32-09     JUNCTION BLVD  NaN   NaN       NaN     NaN   \n42  ...  40.787934    2350          BROADWAY  NaN   NaN       NaN     NaN   \n43  ...  40.762563    1657          BROADWAY  NaN   NaN       NaN     NaN   \n44  ...  40.684737    1657          BROADWAY  NaN   NaN       NaN     NaN   \n45  ...  40.787740     165           W 86 ST  NaN   NaN       NaN     NaN   \n46  ...  40.778723    1258     LEXINGTON AVE  NaN   NaN       NaN     NaN   \n47  ...  40.756458  108-03            34 AVE  NaN   NaN       NaN     NaN   \n\n    POSTCODE          ID              HASH  \n0    10002.0   1006704.0  7fec63fe83030d9d  \n1    10037.0   1044292.0  ed9b6b9c4b736700  \n2    11415.0  10172364.0  e4965e0750aad3d9  \n3    11212.0   3135308.0  2e9b606542b177dd  \n4    11205.0   3069243.0  65e062562799d5e0  \n5    11211.0   3080415.0  715177950e1e0ce4  \n6    11413.0    310886.0  4c73ac95534d0cc6  \n7    11413.0    310886.0  4c73ac95534d0cc6  \n8    11354.0    125355.0  1c6900a95e1ad7f3  \n9    10002.0   1004457.0  e484ba56372ffffa  \n10   11221.0   3055124.0  fb951ff850aba7aa  \n11   10001.0   1019315.0  9bb82e1dd9f7be5c  \n12   10458.0   2021554.0  4fe11ef2338a902a  \n13   10027.0   1050950.0  4ed5a18c0f9b2cb4  \n14   10027.0   1050950.0  4ed5a18c0f9b2cb4  \n15   11216.0   3067394.0  dfc60c9303f877d6  \n16   10002.0   1003635.0  eb6c404c3aa841d9  \n17   10452.0   2014811.0  5183dfa42f440e87  \n18   11206.0   3078381.0  dbe7b4334c09a318  \n19   11435.0    237904.0  2f71742ebd153c83  \n20   11201.0   3003675.0  5cf3e7d00ca6f07f  \n21   11104.0  10174370.0  584593ae1a5333e5  \n22   11206.0   3094225.0  add0289df32752ab  \n23   11249.0   3080397.0  e4812cb4b3484ec9  \n24   10013.0   1003375.0  2aacae775ce1cc6f  \n25   11249.0   3080397.0  e4812cb4b3484ec9  \n26   10013.0   1003375.0  2aacae775ce1cc6f  \n27   10462.0   2099872.0  6be8b86a3fbb2179  \n28   10462.0   2099872.0  6be8b86a3fbb2179  \n29   11368.0     54801.0  70883ae75ac575b0  \n30   10467.0   2059278.0  1f73ffd8366ee616  \n31   10459.0   2011986.0  3aea2a8c9c220063  \n32   10462.0   2041818.0  d6a6ec4579340e34  \n33   10467.0   2030648.0  ead7036a52a03f16  \n34   11692.0    337488.0  6c216bc26bbbe17f  \n35   10472.0   2040338.0  30f1832d5b4c2828  \n36   11105.0     20072.0  320d733946a68d43  \n37   10014.0   1012732.0  a012dd0406a3c051  \n38   10468.0   2024952.0  ff0cd204f58d1a47  \n39   10016.0   1020083.0  9b1c308ce504f529  \n40   10001.0   1064342.0  fe9db453306775b8  \n41   11369.0   5162263.0  f93d1ce5bacd65ce  \n42   10024.0   1059379.0  6fb75e02de46c701  \n43   10019.0   1061619.0  d7d99807cb888dc6  \n44   11207.0  10166939.0  dc28a58f34829bc2  \n45   10024.0   1028806.0  704557bbc76c631c  \n46   10028.0   1037581.0  5bf5b4739d56aac1  \n47   11368.0     48002.0  626a48c89a417d4f  \n\n[48 rows x 63 columns]\n"
          ],
          "output_type": "stream"
        }
      ],
      "source": "merged \u003d pd.merge(violations, openmaps,  how\u003d\u0027inner\u0027, left_on\u003d[\u0027House Number\u0027,\u0027Street Name\u0027], right_on \u003d [\u0027NUMBER\u0027,\u0027STREET\u0027])\nprint(merged)\nmerged.to_csv(\"data/csv/Merged-2015.csv\")",
      "metadata": {
        "pycharm": {
          "metadata": false,
          "name": "#%%\n",
          "is_executing": false
        }
      }
    },
    {
      "cell_type": "code",
      "execution_count": null,
      "outputs": [],
      "source": "\n",
      "metadata": {
        "pycharm": {
          "metadata": false,
          "name": "#%%\n"
        }
      }
    }
  ],
  "metadata": {
    "language_info": {
      "codemirror_mode": {
        "name": "ipython",
        "version": 2
      },
      "file_extension": ".py",
      "mimetype": "text/x-python",
      "name": "python",
      "nbconvert_exporter": "python",
      "pygments_lexer": "ipython2",
      "version": "2.7.6"
    },
    "kernelspec": {
      "name": "python3",
      "language": "python",
      "display_name": "Python 3"
    }
  },
  "nbformat": 4,
  "nbformat_minor": 0
}