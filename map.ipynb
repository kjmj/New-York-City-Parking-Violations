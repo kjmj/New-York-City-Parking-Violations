{
  "cells": [
    {
      "cell_type": "markdown",
      "source": "## Imports and Helper Functions",
      "metadata": {
        "pycharm": {
          "metadata": false,
          "name": "#%% md\n"
        }
      }
    },
    {
      "cell_type": "code",
      "execution_count": 23,
      "outputs": [],
      "source": "import pandas as pd\nimport mplleaflet\n\n# Replace any number of spaces with just a single space\ndef refineSpaces(x):\n    return x.replace(\u0027\\s+\u0027, \u0027 \u0027, regex\u003dTrue)\n\n# Remove leading and trailing white space\ndef removeExcessWhitespace(x):\n    return x.str.strip()\n\n# Convert the string to uppercase\ndef toUpper(x):\n    return x.str.upper()\n",
      "metadata": {
        "pycharm": {
          "metadata": false,
          "name": "#%%\n",
          "is_executing": false
        }
      }
    },
    {
      "cell_type": "markdown",
      "metadata": {
        "collapsed": true,
        "pycharm": {
          "name": "#%% md\n"
        }
      },
      "source": "## Data Cleaning"
    },
    {
      "cell_type": "code",
      "execution_count": 24,
      "outputs": [
        {
          "name": "stdout",
          "text": [
            "Done cleaning data.\n"
          ],
          "output_type": "stream"
        }
      ],
      "source": "violations \u003d pd.read_csv(\u0027data/csv/ParkingViolations2015-Partial.csv\u0027)\n\nviolations[[\u0027House Number\u0027, \u0027Street Name\u0027]] \u003d violations[[\u0027House Number\u0027, \u0027Street Name\u0027]].apply(refineSpaces)\nviolations[[\u0027House Number\u0027, \u0027Street Name\u0027]] \u003d violations[[\u0027House Number\u0027, \u0027Street Name\u0027]].apply(removeExcessWhitespace)\nviolations[[\u0027House Number\u0027, \u0027Street Name\u0027]] \u003d violations[[\u0027House Number\u0027, \u0027Street Name\u0027]].apply(toUpper)\n\nopenmaps \u003d pd.read_csv(\u0027data/csv/city_of_new_york.csv\u0027)\n\nopenmaps[[\u0027NUMBER\u0027, \u0027STREET\u0027]] \u003d openmaps[[\u0027NUMBER\u0027, \u0027STREET\u0027]].apply(refineSpaces)\nopenmaps[[\u0027NUMBER\u0027, \u0027STREET\u0027]] \u003d openmaps[[\u0027NUMBER\u0027, \u0027STREET\u0027]].apply(removeExcessWhitespace)\nopenmaps[[\u0027NUMBER\u0027, \u0027STREET\u0027]] \u003d openmaps[[\u0027NUMBER\u0027, \u0027STREET\u0027]].apply(toUpper)\n\nprint(\"Done cleaning data.\")\n",
      "metadata": {
        "pycharm": {
          "metadata": false,
          "name": "#%%\n",
          "is_executing": false
        }
      }
    },
    {
      "cell_type": "markdown",
      "source": "# Merge based on address",
      "metadata": {
        "pycharm": {
          "metadata": false,
          "name": "#%% md\n"
        }
      }
    },
    {
      "cell_type": "code",
      "execution_count": 25,
      "outputs": [
        {
          "name": "stdout",
          "text": [
            "(4208, 63)\nDone merging data frames.\n"
          ],
          "output_type": "stream"
        }
      ],
      "source": "merged \u003d pd.merge(violations, openmaps,  how\u003d\u0027inner\u0027, left_on\u003d[\u0027House Number\u0027,\u0027Street Name\u0027], right_on \u003d [\u0027NUMBER\u0027,\u0027STREET\u0027])\nmerged.to_csv(\"data/csv/Merged-2015.csv\")\n\nprint(merged.shape)\nprint(\"Done merging data frames.\")\n",
      "metadata": {
        "pycharm": {
          "metadata": false,
          "name": "#%%\n",
          "is_executing": false
        }
      }
    },
    {
      "cell_type": "markdown",
      "source": "## Plot violations on a map",
      "metadata": {
        "pycharm": {
          "metadata": false,
          "name": "#%% md\n"
        }
      }
    },
    {
      "cell_type": "code",
      "execution_count": 28,
      "outputs": [],
      "source": "merged.plot.scatter(x\u003d\u0027LON\u0027, y\u003d\u0027LAT\u0027, marker\u003d\u0027o\u0027, s\u003d5, color\u003d\u0027blue\u0027)\nmplleaflet.save_html()\n",
      "metadata": {
        "pycharm": {
          "metadata": false,
          "name": "#%%\n",
          "is_executing": false
        }
      }
    },
    {
      "cell_type": "code",
      "execution_count": null,
      "outputs": [],
      "source": "\n",
      "metadata": {
        "pycharm": {
          "metadata": false,
          "name": "#%%\n"
        }
      }
    }
  ],
  "metadata": {
    "language_info": {
      "codemirror_mode": {
        "name": "ipython",
        "version": 2
      },
      "file_extension": ".py",
      "mimetype": "text/x-python",
      "name": "python",
      "nbconvert_exporter": "python",
      "pygments_lexer": "ipython2",
      "version": "2.7.6"
    },
    "kernelspec": {
      "name": "python3",
      "language": "python",
      "display_name": "Python 3"
    },
    "stem_cell": {
      "cell_type": "raw",
      "source": "",
      "metadata": {
        "pycharm": {
          "metadata": false
        }
      }
    }
  },
  "nbformat": 4,
  "nbformat_minor": 0
}