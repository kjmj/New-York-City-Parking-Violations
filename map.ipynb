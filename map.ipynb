{
 "cells": [
  {
   "cell_type": "markdown",
   "metadata": {
    "pycharm": {
     "metadata": false,
     "name": "#%% md\n"
    }
   },
   "source": [
    "## Imports and Helper Functions"
   ]
  },
  {
   "cell_type": "code",
   "execution_count": 94,
   "metadata": {
    "pycharm": {
     "is_executing": false,
     "metadata": false,
     "name": "#%%\n"
    }
   },
   "outputs": [],
   "source": [
    "import pandas as pd\n",
    "import mplleaflet\n",
    "import geopandas as gpd\n",
    "import matplotlib.pyplot as plt\n",
    "\n",
    "# Replace any number of spaces with just a single space\n",
    "def refineSpaces(x):\n",
    "    return x.replace('\\s+', ' ', regex=True)\n",
    "\n",
    "# Remove leading and trailing white space\n",
    "def removeExcessWhitespace(x):\n",
    "    return x.str.strip()\n",
    "\n",
    "# Convert the string to uppercase\n",
    "def toUpper(x):\n",
    "    return x.str.upper()\n"
   ]
  },
  {
   "cell_type": "markdown",
   "metadata": {
    "collapsed": true,
    "pycharm": {
     "name": "#%% md\n"
    }
   },
   "source": [
    "## Data Cleaning"
   ]
  },
  {
   "cell_type": "code",
   "execution_count": 95,
   "metadata": {
    "pycharm": {
     "is_executing": false,
     "metadata": false,
     "name": "#%%\n"
    }
   },
   "outputs": [
    {
     "name": "stdout",
     "output_type": "stream",
     "text": [
      "Done cleaning data.\n"
     ]
    }
   ],
   "source": [
    "violations = pd.read_csv('data/csv/ParkingViolations2015-Partial.csv')\n",
    "\n",
    "violations[['House Number', 'Street Name']] = violations[['House Number', 'Street Name']].apply(refineSpaces)\n",
    "violations[['House Number', 'Street Name']] = violations[['House Number', 'Street Name']].apply(removeExcessWhitespace)\n",
    "violations[['House Number', 'Street Name']] = violations[['House Number', 'Street Name']].apply(toUpper)\n",
    "\n",
    "openmaps = pd.read_csv('data/csv/city_of_new_york.csv')\n",
    "\n",
    "openmaps[['NUMBER', 'STREET']] = openmaps[['NUMBER', 'STREET']].apply(refineSpaces)\n",
    "openmaps[['NUMBER', 'STREET']] = openmaps[['NUMBER', 'STREET']].apply(removeExcessWhitespace)\n",
    "openmaps[['NUMBER', 'STREET']] = openmaps[['NUMBER', 'STREET']].apply(toUpper)\n",
    "\n",
    "print(\"Done cleaning data.\")\n"
   ]
  },
  {
   "cell_type": "markdown",
   "metadata": {
    "pycharm": {
     "metadata": false,
     "name": "#%% md\n"
    }
   },
   "source": [
    "# Merge based on address"
   ]
  },
  {
   "cell_type": "code",
   "execution_count": 96,
   "metadata": {
    "pycharm": {
     "is_executing": false,
     "metadata": false,
     "name": "#%%\n"
    }
   },
   "outputs": [
    {
     "name": "stdout",
     "output_type": "stream",
     "text": [
      "(4208, 63)\n",
      "Done merging data frames.\n"
     ]
    }
   ],
   "source": [
    "merged = pd.merge(violations, openmaps,  how='inner', left_on=['House Number','Street Name'], right_on = ['NUMBER','STREET'])\n",
    "merged.to_csv(\"data/csv/Merged-2015.csv\")\n",
    "\n",
    "print(merged.shape)\n",
    "print(\"Done merging data frames.\")\n"
   ]
  },
  {
   "cell_type": "markdown",
   "metadata": {
    "pycharm": {
     "metadata": false,
     "name": "#%% md\n"
    }
   },
   "source": [
    "## Plot violations on a map"
   ]
  },
  {
   "cell_type": "code",
   "execution_count": 104,
   "metadata": {
    "pycharm": {
     "is_executing": false,
     "metadata": false,
     "name": "#%%\n"
    }
   },
   "outputs": [
    {
     "name": "stdout",
     "output_type": "stream",
     "text": [
      "<bound method NDFrame.head of       zcta  bcode  note                                           geometry\n",
      "0    10001  36061  None  POLYGON ((-74.00368399999996 40.74835499999983...\n",
      "1    10002  36061  None  POLYGON ((-73.99694699999998 40.71207199999982...\n",
      "2    10003  36061  None  POLYGON ((-73.99206099999998 40.72564199999982...\n",
      "3    10007  36061  None  POLYGON ((-74.01046499999998 40.71153499999983...\n",
      "4    10009  36061  None  POLYGON ((-73.97520799999998 40.71924299999983...\n",
      "5    10036  36061  None  POLYGON ((-73.99818799999998 40.76492499999982...\n",
      "6    10004  36061  None  (POLYGON ((-74.026658 40.68571499999982, -74.0...\n",
      "7    10005  36061  None  POLYGON ((-74.00902899999998 40.70530999999981...\n",
      "8    10006  36061  None  POLYGON ((-74.01502499999998 40.70627999999983...\n",
      "9    10010  36061  None  POLYGON ((-73.98226699999998 40.73601999999982...\n",
      "10   10011  36061  None  POLYGON ((-74.00368399999996 40.74835499999983...\n",
      "11   10012  36061  None  POLYGON ((-74.00278899999999 40.72727199999981...\n",
      "12   10013  36061  None  POLYGON ((-74.00923899999998 40.71551999999983...\n",
      "13   10032  36061  None  POLYGON ((-73.94260999999999 40.84623099999983...\n",
      "14   10014  36061  None  POLYGON ((-74.00344599999998 40.73875599999982...\n",
      "15   10016  36061  None  POLYGON ((-73.98362099999997 40.74972399999984...\n",
      "16   10017  36061  None  POLYGON ((-73.96856199999998 40.74742599999982...\n",
      "17   10018  36061  None  POLYGON ((-73.99711299999998 40.75461599999984...\n",
      "18   10033  36061  None  POLYGON ((-73.93867999999998 40.84543899999983...\n",
      "19   10019  36061  None  POLYGON ((-73.99270099999998 40.76343099999983...\n",
      "20   10020  36061  None  (POLYGON ((-73.98088599999998 40.7592699999998...\n",
      "21   10021  36061  None  (POLYGON ((-73.95101899999999 40.7656749999998...\n",
      "22   10022  36061  None  POLYGON ((-73.96933699999997 40.76354699999981...\n",
      "23   10023  36061  None  POLYGON ((-73.98011199999998 40.7705289999998,...\n",
      "24   10034  36061  None  POLYGON ((-73.93317599999999 40.86657099999983...\n",
      "25   10024  36061  None  POLYGON ((-73.98722299999999 40.78100699999982...\n",
      "26   10025  36061  None  POLYGON ((-73.96200799999997 40.80550899999983...\n",
      "27   10026  36061  None  (POLYGON ((-73.95819499999999 40.8005529999998...\n",
      "28   10035  36061  None  (POLYGON ((-73.927829 40.78107499999982, -73.9...\n",
      "29   10037  36061  None  POLYGON ((-73.93833799999999 40.80890299999982...\n",
      "..     ...    ...   ...                                                ...\n",
      "184  11379  36081  None  POLYGON ((-73.89115999999999 40.71945999999982...\n",
      "185  11385  36081  None  POLYGON ((-73.91480699999998 40.70519499999983...\n",
      "186  11411  36081  None  POLYGON ((-73.73396 40.68563899999982, -73.734...\n",
      "187  11413  36081  None  POLYGON ((-73.73374099999997 40.68113099999982...\n",
      "188  11414  36081  None  (POLYGON ((-73.85565999999999 40.6638019999998...\n",
      "189  11417  36081  None  POLYGON ((-73.86202799999998 40.67788599999982...\n",
      "190  11418  36081  None  POLYGON ((-73.83481199999997 40.70964299999983...\n",
      "191  11419  36081  None  POLYGON ((-73.81867599999998 40.68324899999982...\n",
      "192  11420  36081  None  POLYGON ((-73.82998799999999 40.68003599999983...\n",
      "193  11421  36081  None  POLYGON ((-73.85529199999998 40.70184399999982...\n",
      "194  11422  36081  None  POLYGON ((-73.74001799999996 40.66474799999982...\n",
      "195  11423  36081  None  (POLYGON ((-73.77730599999998 40.7142089999998...\n",
      "196  11424  36081  None  POLYGON ((-73.82501099999999 40.71377799999982...\n",
      "197  11425  36047  None  POLYGON ((-74.02447099999998 40.60685599999982...\n",
      "198  11426  36081  None  POLYGON ((-73.72796199999998 40.75002599999981...\n",
      "199  11427  36081  None  POLYGON ((-73.75711399999999 40.73397699999983...\n",
      "200  11428  36081  None  POLYGON ((-73.75393099999999 40.71957199999983...\n",
      "201  11429  36081  None  POLYGON ((-73.74985499999997 40.70427799999982...\n",
      "202  11430  36081  None  POLYGON ((-73.82938899999998 40.66436499999982...\n",
      "203  11432  36081  None  POLYGON ((-73.80604499999998 40.72092999999981...\n",
      "204  11433  36081  None  POLYGON ((-73.77783599999998 40.69432099999982...\n",
      "205  11434  36081  None  POLYGON ((-73.78073699999999 40.66244699999984...\n",
      "206  11692  36081  None  POLYGON ((-73.78506199999998 40.59219999999981...\n",
      "207  11435  36081  None  POLYGON ((-73.82050199999998 40.71011099999982...\n",
      "208  11436  36081  None  POLYGON ((-73.79810399999998 40.68510899999983...\n",
      "209  11451  36081  None  POLYGON ((-73.79751799999998 40.70159099999983...\n",
      "210  11691  36081  None  POLYGON ((-73.76991999999998 40.60659599999982...\n",
      "211  11693  36081  None  (POLYGON ((-73.82243299999999 40.6053619999998...\n",
      "212  11694  36081  None  POLYGON ((-73.86266599999998 40.56650799999981...\n",
      "213  11697  36081  None  POLYGON ((-73.91315299999998 40.56454199999983...\n",
      "\n",
      "[214 rows x 4 columns]>\n"
     ]
    }
   ],
   "source": [
    "shape = gpd.read_file('data/shp/nyc-zip')\n",
    "print(shape.head)\n",
    "colors = ['red', 'green', 'blue']\n",
    "ax = shape.plot(color=colors)\n",
    "ax = plt.scatter(merged['LON'], merged['LAT'], marker='o', s=5, color=\"blue\")\n",
    "mplleaflet.save_html(fig=ax.figure)\n"
   ]
  },
  {
   "cell_type": "code",
   "execution_count": null,
   "metadata": {
    "pycharm": {
     "metadata": false,
     "name": "#%%\n"
    }
   },
   "outputs": [],
   "source": [
    "\n"
   ]
  }
 ],
 "metadata": {
  "kernelspec": {
   "display_name": "Python 3",
   "language": "python",
   "name": "python3"
  },
  "language_info": {
   "codemirror_mode": {
    "name": "ipython",
    "version": 3
   },
   "file_extension": ".py",
   "mimetype": "text/x-python",
   "name": "python",
   "nbconvert_exporter": "python",
   "pygments_lexer": "ipython3",
   "version": "3.7.3"
  },
  "stem_cell": {
   "cell_type": "raw",
   "metadata": {
    "pycharm": {
     "metadata": false
    }
   },
   "source": ""
  }
 },
 "nbformat": 4,
 "nbformat_minor": 1
}
